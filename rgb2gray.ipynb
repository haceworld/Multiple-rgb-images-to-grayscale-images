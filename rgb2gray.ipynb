#conversion of multiple rgb images in a folder to gray scale images saved in another folder created

import cv2
import os
from os import listdir,makedirs
from os.path import isfile,join
import tensorflow as tf
import numpy as np
import glob

#location of the path folder where the images are

path_1 = 'C:/Users/Grace/Desktop/New Dataset/1'
#path_2 = 'C:/Users/Grace/Desktop/New Dataset/2'
#path_3 = 'C:/Users/Grace/Desktop/New Dataset/3'
#path_4 = 'C:/Users/Grace/Desktop/New Dataset/4'
#path_5 = 'C:/Users/Grace/Desktop/New Dataset/5'
#path_6 = 'C:/Users/Grace/Desktop/New Dataset/6'
#path_7 = 'C:/Users/Grace/Desktop/New Dataset/7'
#path_8 = 'C:/Users/Grace/Desktop/New Dataset/8'
#path_9 = 'C:/Users/Grace/Desktop/New Dataset/9'
#path_10 = 'C:/Users/Grace/Desktop/New Dataset/10'
#path_11 = 'C:/Users/Grace/Desktop/New Dataset/11'
#path_12 = 'C:/Users/Grace/Desktop/New Dataset/12'
#path_13 = 'C:/Users/Grace/Desktop/New Dataset/13'
#path_14 = 'C:/Users/Grace/Desktop/New Dataset/14'
#path_15 = 'C:/Users/Grace/Desktop/New Dataset/15'
#path_16 = 'C:/Users/Grace/Desktop/New Dataset/16'
#path_17 = 'C:/Users/Grace/Desktop/New Dataset/17'
#path_18 = 'C:/Users/Grace/Desktop/New Dataset/18'
#path_19 = 'C:/Users/Grace/Desktop/New Dataset/19'
#path_20 = 'C:/Users/Grace/Desktop/New Dataset/20'

#list the path_name on the path_list

paths_list = [path_1]

#Destination folder where you want the grayscale images to be saved into

dstpath = 'C:\\Users\\Grace\\Desktop\\New Dataset\\Gray1'

for path in paths_list:
    
    files = [f for f in listdir(path) if isfile(join(path,f))]

for image in files:
    try:
        
        img = cv2.imread(os.path.join(path, image))
        #conversion code from rgb to grayscale
        gray_img = cv2.cvtColor(img, cv2.COLOR_BGR2GRAY)
        dstPath = join(dstpath, image)
        cv2.imwrite(dstPath, gray_img)
    except:
        print ("{} is not converted".format(image))
